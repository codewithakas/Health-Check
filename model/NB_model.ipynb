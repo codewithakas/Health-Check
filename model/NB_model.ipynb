{
 "cells": [
  {
   "cell_type": "code",
   "execution_count": 21,
   "metadata": {},
   "outputs": [
    {
     "name": "stdout",
     "output_type": "stream",
     "text": [
      "Accuracy: 78.77%\n"
     ]
    },
    {
     "data": {
      "image/png": "[encoded data removed]",
      "text/plain": [
       "<Figure size 640x480 with 2 Axes>"
      ]
     },
     "metadata": {},
     "output_type": "display_data"
    }
   ],
   "source": [
    "import pandas as pd\n",
    "from sklearn.model_selection import train_test_split\n",
    "from sklearn.preprocessing import StandardScaler\n",
    "from sklearn.metrics import accuracy_score, confusion_matrix\n",
    "import seaborn as sns\n",
    "import matplotlib.pyplot as plt\n",
    "import joblib\n",
    "from sklearn.impute import SimpleImputer\n",
    "from sklearn.ensemble import IsolationForest\n",
    "import numpy as np\n",
    "\n",
    "class GaussianNaiveBayes:\n",
    "    def fit(self, X, y):\n",
    "        self.classes = np.unique(y)\n",
    "        self.parameters = []\n",
    "        for c in self.classes:\n",
    "            X_c = X[y == c]\n",
    "            self.parameters.append((np.mean(X_c, axis=0), np.var(X_c, axis=0)))\n",
    "\n",
    "    def _pdf(self, X, mean, var):\n",
    "        return 1 / np.sqrt(2 * np.pi * var) * np.exp(-(X - mean) ** 2 / (2 * var))\n",
    "\n",
    "    def predict_class(self, sample):\n",
    "        posteriors = []\n",
    "        for i, c in enumerate(self.classes):\n",
    "            prior = np.log(len(X_train[y_train == c]) / len(X_train))\n",
    "            posterior = np.sum(\n",
    "                np.log(self._pdf(sample, self.parameters[i][0], self.parameters[i][1])))\n",
    "            posterior += prior\n",
    "            posteriors.append(posterior)\n",
    "        return self.classes[np.argmax(posteriors)]\n",
    "\n",
    "    def predict(self, X):\n",
    "        return [self.predict_class(x) for x in X]\n",
    "\n",
    "\n",
    "if __name__ == \"__main__\":\n",
    "    # Load the dataset\n",
    "    df = pd.read_csv(\"diabetes.csv\", sep=\",\", header=0)\n",
    "\n",
    "    # Remove the SkinThickness column\n",
    "    df = df.drop(\"SkinThickness\", axis=1)\n",
    "\n",
    "    # Impute missing values with the mean\n",
    "    imputer = SimpleImputer(strategy='mean')\n",
    "    df = pd.DataFrame(imputer.fit_transform(df), columns=df.columns)\n",
    "\n",
    "    # Splitting data into features and outcome\n",
    "    X = df.drop('Outcome', axis=1).values\n",
    "    y = df['Outcome'].values\n",
    "\n",
    "    # Use Isolation Forest to handle outliers\n",
    "    iso_forest = IsolationForest(contamination=0.05, random_state=42)\n",
    "    outliers = iso_forest.fit_predict(X)\n",
    "\n",
    "    # Remove outliers from the data\n",
    "    X_no_outliers = X[outliers != -1]\n",
    "    y_no_outliers = y[outliers != -1]\n",
    "\n",
    "    # Standardize the data\n",
    "    scaler = StandardScaler()\n",
    "    X_scaled = scaler.fit_transform(X_no_outliers)\n",
    "\n",
    "    # Split the data into training and testing sets\n",
    "    X_train, X_test, y_train, y_test = train_test_split(\n",
    "        X_scaled, y_no_outliers, test_size=0.2, random_state=42, stratify=y_no_outliers)\n",
    "\n",
    "    # Define the Naive Bayes algorithm (Gaussian Naive Bayes)\n",
    "\n",
    "    # Train the Naive Bayes model (Gaussian Naive Bayes)\n",
    "    naive_bayes_classifier = GaussianNaiveBayes()\n",
    "    naive_bayes_classifier.fit(X_train, y_train)\n",
    "\n",
    "    # Predict using the Naive Bayes model\n",
    "    y_pred = naive_bayes_classifier.predict(X_test)\n",
    "\n",
    "    # Evaluate the model\n",
    "    accuracy = accuracy_score(y_test, y_pred)\n",
    "    print(\"Accuracy: %.2f%%\" % (accuracy * 100.0))\n",
    "\n",
    "    # Plot the confusion matrix\n",
    "    conf_matrix = confusion_matrix(y_test, y_pred)\n",
    "    sns.heatmap(conf_matrix, annot=True, fmt=\"d\", cmap='Blues')\n",
    "    plt.xlabel('Predicted')\n",
    "    plt.ylabel('True')\n",
    "    plt.title('Confusion Matrix')\n",
    "    # plt.show()\n",
    "\n",
    "    # Save the trained Naive Bayes model and scaler using joblib\n",
    "    joblib.dump([naive_bayes_classifier, accuracy, scaler],\n",
    "                'naive_bayes_model.pkl')\n"
   ]
  }
 ],
 "metadata": {
  "kernelspec": {
   "display_name": "Python 3",
   "language": "python",
   "name": "python3"
  },
  "language_info": {
   "codemirror_mode": {
    "name": "ipython",
    "version": 3
   },
   "file_extension": ".py",
   "mimetype": "text/x-python",
   "name": "python",
   "nbconvert_exporter": "python",
   "pygments_lexer": "ipython3",
   "version": "3.10.0"
  },
  "orig_nbformat": 4
 },
 "nbformat": 4,
 "nbformat_minor": 2
}
