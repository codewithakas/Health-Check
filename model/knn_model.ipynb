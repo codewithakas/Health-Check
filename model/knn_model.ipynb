{
 "cells": [
  {
   "cell_type": "code",
   "execution_count": 3,
   "metadata": {},
   "outputs": [
    {
     "name": "stdout",
     "output_type": "stream",
     "text": [
      "Test Set Accuracy: 81.16883116883116%\n"
     ]
    },
    {
     "data": {
      "text/plain": [
       "['knn_model.pkl']"
      ]
     },
     "execution_count": 3,
     "metadata": {},
     "output_type": "execute_result"
    }
   ],
   "source": [
    "import numpy as np\n",
    "import pandas as pd\n",
    "from sklearn.model_selection import train_test_split, cross_val_score\n",
    "from sklearn.preprocessing import StandardScaler\n",
    "# from sklearn.neighbors import KNeighborsClassifier\n",
    "from sklearn.metrics import accuracy_score\n",
    "from sklearn.ensemble import IsolationForest\n",
    "import joblib\n",
    "# Load dataset\n",
    "data = pd.read_csv('diabetes.csv')\n",
    "\n",
    "# Remove the SkinThickness column\n",
    "data = data.drop(\"SkinThickness\", axis=1)\n",
    "\n",
    "# Split dataset into features and target variable\n",
    "X = data.iloc[:, :-1].values  # features\n",
    "y = data.iloc[:, -1].values  # target variable\n",
    "\n",
    "# Feature Scaling\n",
    "scaler = StandardScaler()\n",
    "X_scaled = scaler.fit_transform(X)\n",
    "\n",
    "\n",
    "\n",
    "# Splitting the dataset into the Training set and Test set\n",
    "X_train, X_test, y_train, y_test = train_test_split(X_scaled, y, test_size = 0.2, random_state = 0)\n",
    "\n",
    "class KNNClassifier:\n",
    "    def __init__(self, k):\n",
    "        self.k = k\n",
    "        self.X_train = None\n",
    "        self.y_train = None\n",
    "\n",
    "    def fit(self, X_train, y_train):\n",
    "        self.X_train = X_train\n",
    "        self.y_train = y_train\n",
    "\n",
    "    def predict(self, X_test):\n",
    "        predictions = []\n",
    "        for sample in X_test:\n",
    "            distances = np.linalg.norm(self.X_train - sample, axis=1)\n",
    "            nearest_neighbors = np.argsort(distances)[:self.k]\n",
    "            neighbors_labels = self.y_train[nearest_neighbors]\n",
    "            unique_labels, counts = np.unique(neighbors_labels, return_counts=True)\n",
    "            predicted_label = unique_labels[np.argmax(counts)]\n",
    "            predictions.append(predicted_label)\n",
    "        return np.array(predictions)\n",
    "\n",
    "# Finding the best K value\n",
    "# best_accuracy = 0\n",
    "# best_k = 1\n",
    "# for k in range(1, 20):\n",
    "#     knn = KNNClassifier(n_neighbors = k)\n",
    "#     cv_scores = cross_val_score(knn, X_train, y_train, cv=10)\n",
    "#     if np.mean(cv_scores) > best_accuracy:\n",
    "#         best_accuracy = np.mean(cv_scores)\n",
    "#         best_k = k\n",
    "\n",
    "# Training the KNN model on the training set with the best K value\n",
    "knn = KNNClassifier(k=6)\n",
    "knn.fit(X_train, y_train)\n",
    "\n",
    "# Predicting the Test set results\n",
    "y_pred = knn.predict(X_test)\n",
    "\n",
    "# Evaluating the model\n",
    "accuracy = accuracy_score(y_test, y_pred)\n",
    "# print(f'Best K value: {best_k}')\n",
    "print(f'Test Set Accuracy: {accuracy * 100}%')\n",
    "\n",
    "# Save the KNN model\n",
    "joblib.dump([knn, accuracy, scaler], 'knn_model.pkl')\n"
   ]
  }
 ],
 "metadata": {
  "kernelspec": {
   "display_name": "Python 3",
   "language": "python",
   "name": "python3"
  },
  "language_info": {
   "codemirror_mode": {
    "name": "ipython",
    "version": 3
   },
   "file_extension": ".py",
   "mimetype": "text/x-python",
   "name": "python",
   "nbconvert_exporter": "python",
   "pygments_lexer": "ipython3",
   "version": "3.10.0"
  },
  "orig_nbformat": 4
 },
 "nbformat": 4,
 "nbformat_minor": 2
}
